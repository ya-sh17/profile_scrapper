{
 "cells": [
  {
   "cell_type": "markdown",
   "metadata": {},
   "source": [
    "## LinkedIn Profile Scraper in Python"
   ]
  },
  {
   "cell_type": "code",
   "execution_count": 195,
   "metadata": {},
   "outputs": [],
   "source": [
    "import warnings\n",
    "warnings.filterwarnings(\"ignore\")"
   ]
  },
  {
   "cell_type": "code",
   "execution_count": 196,
   "metadata": {},
   "outputs": [
    {
     "data": {
      "text/plain": [
       "False"
      ]
     },
     "execution_count": 196,
     "metadata": {},
     "output_type": "execute_result"
    }
   ],
   "source": [
    "import os\n",
    "from bs4 import BeautifulSoup\n",
    "from selenium import webdriver\n",
    "from selenium.webdriver.common.by import By\n",
    "import csv\n",
    "\n",
    "from time import sleep\n",
    "\n",
    "from dotenv import load_dotenv\n",
    "load_dotenv()"
   ]
  },
  {
   "cell_type": "code",
   "execution_count": 197,
   "metadata": {},
   "outputs": [],
   "source": [
    "# if you don't have a .env file, you can create one and add the following lines:\n",
    "os.environ['EMAIL'] = '17eleven02@gmail.com'\n",
    "os.environ['PASSWORD'] = 'Yash@raut17'"
   ]
  },
  {
   "cell_type": "code",
   "execution_count": 210,
   "metadata": {},
   "outputs": [],
   "source": [
    "driver = webdriver.Chrome()\n",
    "driver.get('https://www.linkedin.com/login')\n",
    "# driver.title\n",
    "email = driver.find_element(By.ID, 'username')\n",
    "email.send_keys(os.environ['EMAIL'])\n",
    "\n",
    "password = driver.find_element(By.ID, 'password')\n",
    "password.send_keys(os.environ['PASSWORD'])\n",
    "\n",
    "password.submit()"
   ]
  },
  {
   "cell_type": "code",
   "execution_count": 199,
   "metadata": {},
   "outputs": [],
   "source": [
    "job_profile = input(\"Enter the job role: \")"
   ]
  },
  {
   "cell_type": "code",
   "execution_count": 232,
   "metadata": {},
   "outputs": [],
   "source": [
    "\n",
    "\n",
    "url = f\"https://www.linkedin.com/search/results/people/?keywords={job_profile}&origin=FACETED_SEARCH&page=2&sid=aKT\"\n",
    "driver.get(url)"
   ]
  },
  {
   "cell_type": "code",
   "execution_count": 233,
   "metadata": {},
   "outputs": [],
   "source": [
    "page_source = driver.page_source\n",
    "soup = BeautifulSoup(page_source, 'lxml')\n",
    "\n",
    "profiles = soup.find_all('a', {'class': \"uBRuLksiXRXJNxzCdmDLlNvbeHoNnTVInTsbWCI scale-down\"})\n",
    "\n"
   ]
  },
  {
   "cell_type": "code",
   "execution_count": 275,
   "metadata": {},
   "outputs": [],
   "source": [
    "url_list = []\n",
    "for profile in profiles:\n",
    "    url_list.append(profile['href'].split('?')[0])\n",
    "\n",
    "# url_list"
   ]
  },
  {
   "cell_type": "code",
   "execution_count": 276,
   "metadata": {},
   "outputs": [
    {
     "data": {
      "text/plain": [
       "['https://www.linkedin.com/in/pranaysatpute',\n",
       " 'https://www.linkedin.com/in/zafar-siddiqui-b22592294',\n",
       " 'https://www.linkedin.com/in/tanisha-tawari',\n",
       " 'https://www.linkedin.com/in/vishnukant-dwivedi-00221221b',\n",
       " 'https://www.linkedin.com/in/pratik-mungle-19286919b',\n",
       " 'https://www.linkedin.com/in/aishwarya-karnuke-877085223',\n",
       " 'https://www.linkedin.com/in/samiksha-asati-980204235',\n",
       " 'https://www.linkedin.com/in/awantika-thakare-991a00246',\n",
       " 'https://www.linkedin.com/in/shwetan-kale',\n",
       " 'https://www.linkedin.com/in/sambhav-mishra-692529214']"
      ]
     },
     "execution_count": 276,
     "metadata": {},
     "output_type": "execute_result"
    }
   ],
   "source": [
    "url_list"
   ]
  },
  {
   "cell_type": "code",
   "execution_count": 278,
   "metadata": {},
   "outputs": [
    {
     "name": "stdout",
     "output_type": "stream",
     "text": [
      "None\n"
     ]
    },
    {
     "ename": "AttributeError",
     "evalue": "'NoneType' object has no attribute 'get_text'",
     "output_type": "error",
     "traceback": [
      "\u001b[1;31m---------------------------------------------------------------------------\u001b[0m",
      "\u001b[1;31mAttributeError\u001b[0m                            Traceback (most recent call last)",
      "Cell \u001b[1;32mIn[278], line 21\u001b[0m\n\u001b[0;32m     19\u001b[0m info \u001b[38;5;241m=\u001b[39m soup\u001b[38;5;241m.\u001b[39mfind(\u001b[38;5;124m'\u001b[39m\u001b[38;5;124ma\u001b[39m\u001b[38;5;124m'\u001b[39m,{\u001b[38;5;124m'\u001b[39m\u001b[38;5;124mclass\u001b[39m\u001b[38;5;124m'\u001b[39m: \u001b[38;5;124m'\u001b[39m\u001b[38;5;124mLLQGEgFqLWwQpgGzQtOincjvGycyFWDgWoGQP link-without-visited-state t-14\u001b[39m\u001b[38;5;124m'\u001b[39m})\n\u001b[0;32m     20\u001b[0m \u001b[38;5;28mprint\u001b[39m(info)\n\u001b[1;32m---> 21\u001b[0m info \u001b[38;5;241m=\u001b[39m \u001b[43minfo\u001b[49m\u001b[38;5;241;43m.\u001b[39;49m\u001b[43mget_text\u001b[49m()\u001b[38;5;241m.\u001b[39mstrip()\n\u001b[0;32m     22\u001b[0m driver\u001b[38;5;241m.\u001b[39mback()\n\u001b[0;32m     26\u001b[0m writer\u001b[38;5;241m.\u001b[39mwriterow({\n\u001b[0;32m     27\u001b[0m     \u001b[38;5;124m'\u001b[39m\u001b[38;5;124mName\u001b[39m\u001b[38;5;124m'\u001b[39m: name,\n\u001b[0;32m     28\u001b[0m     \u001b[38;5;124m'\u001b[39m\u001b[38;5;124mProfile\u001b[39m\u001b[38;5;124m'\u001b[39m: info,\n\u001b[0;32m     29\u001b[0m     \u001b[38;5;124m'\u001b[39m\u001b[38;5;124mHeadline\u001b[39m\u001b[38;5;124m'\u001b[39m: headline\n\u001b[0;32m     30\u001b[0m })\n",
      "\u001b[1;31mAttributeError\u001b[0m: 'NoneType' object has no attribute 'get_text'"
     ]
    }
   ],
   "source": [
    "with open('new_linkedin_profiles.csv', 'w', newline='', encoding='utf-8') as csvfile:\n",
    "    fieldnames = ['Name','Profile', 'Headline']\n",
    "    writer = csv.DictWriter(csvfile, fieldnames=fieldnames)\n",
    "    writer.writeheader() \n",
    "    for url in url_list:\n",
    "        driver.get(url)\n",
    "\n",
    "        page_source = driver.page_source\n",
    "        soup = BeautifulSoup(page_source, 'lxml')\n",
    "        name = soup.find('h1', {'class': \"XcqMGBrLgSDsfiaCuMsRfEqqGQIKDfI inline t-24 v-align-middle break-words\"})\n",
    "        name = name.get_text().strip()\n",
    "\n",
    "        headline = soup.find('div', {'class': 'text-body-medium break-words'})\n",
    "        headline = headline.get_text().strip()\n",
    "        \n",
    "        driver.find_element(By.ID, \"top-card-text-details-contact-info\").click()\n",
    "        info = url\n",
    "        driver.back()\n",
    "\n",
    "        \n",
    "\n",
    "        writer.writerow({\n",
    "            'Name': name,\n",
    "            'Profile': info,\n",
    "            'Headline': headline\n",
    "        })\n",
    "\n",
    "driver.quit()\n",
    "    "
   ]
  }
 ],
 "metadata": {
  "kernelspec": {
   "display_name": "Python 3",
   "language": "python",
   "name": "python3"
  },
  "language_info": {
   "codemirror_mode": {
    "name": "ipython",
    "version": 3
   },
   "file_extension": ".py",
   "mimetype": "text/x-python",
   "name": "python",
   "nbconvert_exporter": "python",
   "pygments_lexer": "ipython3",
   "version": "3.12.0"
  }
 },
 "nbformat": 4,
 "nbformat_minor": 2
}
